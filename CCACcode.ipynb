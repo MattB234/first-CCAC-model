{
  "nbformat": 4,
  "nbformat_minor": 0,
  "metadata": {
    "colab": {
      "provenance": [],
      "authorship_tag": "ABX9TyPCruCi8UxpzAMzG02D2WT/",
      "include_colab_link": true
    },
    "kernelspec": {
      "name": "python3",
      "display_name": "Python 3"
    },
    "language_info": {
      "name": "python"
    }
  },
  "cells": [
    {
      "cell_type": "markdown",
      "metadata": {
        "id": "view-in-github",
        "colab_type": "text"
      },
      "source": [
        "<a href=\"https://colab.research.google.com/github/MattB234/first-CCAC-model/blob/main/CCACcode.ipynb\" target=\"_parent\"><img src=\"https://colab.research.google.com/assets/colab-badge.svg\" alt=\"Open In Colab\"/></a>"
      ]
    },
    {
      "cell_type": "code",
      "execution_count": 6,
      "metadata": {
        "colab": {
          "base_uri": "https://localhost:8080/"
        },
        "id": "QpWPnI2TYeXk",
        "outputId": "3edc7914-d0cd-4313-abd7-1207f2774898"
      },
      "outputs": [
        {
          "output_type": "stream",
          "name": "stdout",
          "text": [
            "bracket_training.csv imported successfully!\n",
            "CCAC 2025 - Institutions.csv imported successfully!\n",
            "\n",
            "--- braket_training.csv fields ---\n",
            "Index(['CustomerID', 'CustomerAreaCode', 'CustomerPostalCode',\n",
            "       'CustomerPostalCodeLatitude', 'CustomerPostalCodeLongitude',\n",
            "       'CustomerDMACode', 'CustomerDMADescription',\n",
            "       'NCAACustomerRecordCreated', 'BracketEntryId',\n",
            "       'BracketEntryCreatedDate', 'RegionWinner_East', 'RegionWinner_West',\n",
            "       'RegionWinner_South', 'RegionWinner_Midwest',\n",
            "       'SemifinalWinner_East_West', 'SemifinalWinner_South_Midwest',\n",
            "       'NationalChampion'],\n",
            "      dtype='object')\n",
            "\n",
            "--- CCAC 2025 - Institutions.csv fields ---\n",
            "Index(['InstitutionID', 'InstitutionName', 'InstitutionNickname',\n",
            "       'InstitutionAbbreviation', 'InstitutionCity', 'InstitutionState',\n",
            "       'InstitutionPostalCode', 'InstitutionDMACode',\n",
            "       'InstitutionDMADescription', 'InstitutionLatitude',\n",
            "       'InstitutionLongitude', 'InstitutionConference',\n",
            "       'InstitutionEnrollment_Male', 'InstitutionEnrollment_Female',\n",
            "       'InstitutionEnrollment_Total', 'InstitutionNCAAMemberSinceDate',\n",
            "       'RegularSeasonWins', 'RegularSeasonLosses',\n",
            "       'RegularSeasonAverageAttendance', 'RegularSeasonAverageScore'],\n",
            "      dtype='object')\n",
            "\n",
            "--- Potential Key Fields (Initial Hypothesis) ---\n",
            "braket_training.csv: ['BracketEntryId', 'RegionWinner_East', 'RegionWinner_West', 'RegionWinner_South', 'RegionWinner_Midwest', 'SemifinalWinner_East_West', 'SemifinalWinner_South_Midwest', 'NationalChampion']\n",
            "CCAC 2025 - Institutions.csv: ['InstitutionID', 'InstitutionName', 'RegularSeasonWins', 'RegularSeasonLosses', 'RegularSeasonAverageAttendance', 'RegularSeasonAverageScore']\n"
          ]
        }
      ],
      "source": [
        "# prompt: I want to import the \"bracket_test.csv\" and \"CCAC 2025 - Institutions.csv\"\n",
        "\n",
        "import pandas as pd\n",
        "\n",
        "# Assuming the files are in your current working directory\n",
        "# If not, specify the full path to the files\n",
        "\n",
        "try:\n",
        "  bracket_df = pd.read_csv(\"bracket_training.csv\")\n",
        "  print(\"bracket_training.csv imported successfully!\")\n",
        "except FileNotFoundError:\n",
        "  print(\"Error: bracket_training.csv not found.\")\n",
        "\n",
        "\n",
        "try:\n",
        "  ccac_df = pd.read_csv(\"CCAC 2025 - Institutions.csv\")\n",
        "  print(\"CCAC 2025 - Institutions.csv imported successfully!\")\n",
        "except FileNotFoundError:\n",
        "  print(\"Error: CCAC 2025 - Institutions.csv not found.\")\n",
        "\n",
        "# Now, let's explore the data to identify potential key fields\n",
        "if 'bracket_df' in locals() and 'ccac_df' in locals():\n",
        "  print(\"\\n--- braket_training.csv fields ---\")\n",
        "  print(bracket_df.columns)\n",
        "  print(\"\\n--- CCAC 2025 - Institutions.csv fields ---\")\n",
        "  print(ccac_df.columns)\n",
        "\n",
        "# Initial hypothesis: Look for fields related to team names, seeds, region, and historical performance\n",
        "  potential_key_fields_bracket = ['BracketEntryId', 'RegionWinner_East', 'RegionWinner_West', 'RegionWinner_South', 'RegionWinner_Midwest', 'SemifinalWinner_East_West', 'SemifinalWinner_South_Midwest', 'NationalChampion']  # Example, adjust based on actual column names\n",
        "  potential_key_fields_ccac = ['InstitutionID', 'InstitutionName', 'RegularSeasonWins', 'RegularSeasonLosses', 'RegularSeasonAverageAttendance', 'RegularSeasonAverageScore'] # Example, adjust based on actual column names\n",
        "\n",
        "  # Further analysis needed based on the contents of each column to determine which are truly key.\n",
        "  # For example, are there multiple teams with same name in different years?\n",
        "  # Consider the unique values present in each field\n",
        "  print(\"\\n--- Potential Key Fields (Initial Hypothesis) ---\")\n",
        "  print(\"braket_training.csv:\", potential_key_fields_bracket)\n",
        "  print(\"CCAC 2025 - Institutions.csv:\", potential_key_fields_ccac)\n"
      ]
    },
    {
      "cell_type": "code",
      "source": [
        "# prompt: Use these potential key fields to build a linear model that is able to predict 'SemifinalWinner_East_West', 'SemifinalWinner_South_Midwest', 'NationalChampion' for each BracketEntryID in \"bracket_training.csv\"\n",
        "\n",
        "import pandas as pd\n",
        "from sklearn.model_selection import train_test_split\n",
        "from sklearn.linear_model import LinearRegression\n",
        "from sklearn.metrics import mean_squared_error\n",
        "\n",
        "# Load the first CSV with selected coloumns of interest\n",
        "bracket_training_df = pd.read_csv(\"bracket_training.csv\", usecols=['BracketEntryId', 'RegionWinner_East', 'RegionWinner_West', 'RegionWinner_South', 'RegionWinner_Midwest', 'SemifinalWinner_East_West', 'SemifinalWinner_South_Midwest', 'NationalChampion'])\n",
        "\n",
        "# Load the second CSV with selected columns of interest\n",
        "institutions_df = pd.read_csv(\"CCAC 2025 - Institutions.csv\", usecols=['InstitutionID', 'InstitutionName', 'RegularSeasonWins', 'RegularSeasonLosses', 'RegularSeasonAverageAttendance', 'RegularSeasonAverageScore'])\n",
        "\n",
        "# Concatenate the selected columns (side by side)\n",
        "merged_df = pd.concat([bracket_training_df, institutions_df], axis=1)\n",
        "\n",
        "# Save the merged DataFrame to a new CSV file\n",
        "merged_df.to_csv(\"merged_file.csv\", index=False)\n",
        "\n",
        "\n",
        "# Preprocessing\n",
        "# 1. Handle missing values (replace with mean, median or remove rows/columns)\n",
        "# 2. Convert categorical features (e.g. Region, Team names) to numerical using one-hot encoding\n",
        "#    or other suitable methods\n",
        "\n",
        "# Example preprocessing (replace with your actual preprocessing)\n",
        "merged_df = merged_df.dropna()  # Drop rows with missing values (simple approach, consider imputation instead)\n",
        "# Convert relevant categorical columns to numerical\n",
        "# Example assuming the dataframe has 'Region' and 'Team'\n",
        "merged_df = pd.get_dummies(merged_df, columns=['InstitutionName'], drop_first=True)  # One-hot encoding\n",
        "# ...other preprocessing steps\n",
        "\n",
        "\n",
        "# Feature Selection\n",
        "# Use the potential key fields identified in previous code\n",
        "potential_key_fields = ['InstitutionID', 'RegularSeasonWins', 'RegularSeasonLosses', 'RegularSeasonAverageAttendance', 'RegularSeasonAverageScore']\n",
        "\n",
        "potential_key_fields += [col for col in merged_df.columns if 'InstitutionName_' in col]\n",
        "\n",
        "target_variables = ['RegionWinner_East', 'RegionWinner_West', 'RegionWinner_South', 'RegionWinner_Midwest', 'SemifinalWinner_East_West', 'SemifinalWinner_South_Midwest', 'NationalChampion']\n",
        "# Add one-hot encoded columns from your preprocessing steps to the 'potential_key_fields' list\n",
        "\n",
        "# Model Training (Linear Regression)\n",
        "X = merged_df[potential_key_fields] # Features\n",
        "y = merged_df[target_variables] # Target variables\n",
        "\n",
        "X_train, X_test, y_train, y_test = train_test_split(X, y, test_size=0.2, random_state=42) # Split the data\n",
        "\n",
        "model = LinearRegression()\n",
        "model.fit(X_train, y_train)\n",
        "\n",
        "# Model Evaluation\n",
        "y_pred = model.predict(X_test)\n",
        "mse = mean_squared_error(y_test, y_pred)\n",
        "print(f\"Mean Squared Error: {mse}\")\n",
        "\n",
        "# Predictions for new data (replace with your actual new data)\n",
        "# new_data = pd.DataFrame({'Seed': [1, 2], 'Year': [2023, 2024], ...}) #include your one hot encoded columns here\n",
        "# predictions = model.predict(new_data)\n",
        "# print(f\"Predictions: \\n{predictions}\")\n"
      ],
      "metadata": {
        "colab": {
          "base_uri": "https://localhost:8080/"
        },
        "id": "Z-br89H3_Wg9",
        "outputId": "cee7f9c0-bd30-413a-ff0a-6f1637826023"
      },
      "execution_count": 12,
      "outputs": [
        {
          "output_type": "stream",
          "name": "stdout",
          "text": [
            "Mean Squared Error: 50619.56362193844\n"
          ]
        }
      ]
    }
  ]
}